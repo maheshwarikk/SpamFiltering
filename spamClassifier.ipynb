{
 "cells": [
  {
   "cell_type": "markdown",
   "id": "3f4f23ea",
   "metadata": {},
   "source": [
    "ANN MODEL"
   ]
  },
  {
   "cell_type": "code",
   "execution_count": 30,
   "id": "ecb4a328-498c-4e88-b6d0-cdca23091129",
   "metadata": {},
   "outputs": [],
   "source": [
    "import pandas as pd\n",
    "%matplotlib inline\n",
    "import numpy as np\n",
    "import pandas as pd\n",
    "import matplotlib.pyplot as plt\n",
    "import seaborn as sns\n",
    "import sklearn\n",
    "import nltk#for text wrangling\n",
    "import spacy#for text wrangling\n",
    "import re\n",
    "import contractions\n",
    "from nltk.stem import WordNetLemmatizer\n",
    "from nltk.corpus import stopwords\n",
    "import torch\n",
    "from torch import nn\n",
    "import torch.nn.functional as F\n",
    "import torch.optim as optim\n"
   ]
  },
  {
   "cell_type": "code",
   "execution_count": 31,
   "id": "5eef3552-dd72-4f0c-a096-87534e0afe7d",
   "metadata": {},
   "outputs": [],
   "source": [
    "df = pd.read_csv(\"dataset.csv\")\n",
    "df_shuffled = df.sample(frac=1, random_state=42).reset_index(drop=True)"
   ]
  },
  {
   "cell_type": "code",
   "execution_count": 32,
   "id": "b2e7da4d-6c79-4013-9a7d-4052aadd4e56",
   "metadata": {},
   "outputs": [
    {
     "data": {
      "text/plain": [
       "label\n",
       "ham     14337\n",
       "spam     6011\n",
       "Name: count, dtype: int64"
      ]
     },
     "execution_count": 32,
     "metadata": {},
     "output_type": "execute_result"
    }
   ],
   "source": [
    "df.label.value_counts()"
   ]
  },
  {
   "cell_type": "code",
   "execution_count": 33,
   "id": "f12b617d-26f2-42ad-9009-52ddcd3506a5",
   "metadata": {},
   "outputs": [],
   "source": [
    "df.dropna(inplace = True)\n"
   ]
  },
  {
   "cell_type": "code",
   "execution_count": 34,
   "id": "3ebd953c-5dfe-46d6-9950-fa266133eaeb",
   "metadata": {},
   "outputs": [
    {
     "data": {
      "text/html": [
       "<div>\n",
       "<style scoped>\n",
       "    .dataframe tbody tr th:only-of-type {\n",
       "        vertical-align: middle;\n",
       "    }\n",
       "\n",
       "    .dataframe tbody tr th {\n",
       "        vertical-align: top;\n",
       "    }\n",
       "\n",
       "    .dataframe thead th {\n",
       "        text-align: right;\n",
       "    }\n",
       "</style>\n",
       "<table border=\"1\" class=\"dataframe\">\n",
       "  <thead>\n",
       "    <tr style=\"text-align: right;\">\n",
       "      <th></th>\n",
       "      <th>label</th>\n",
       "      <th>text</th>\n",
       "    </tr>\n",
       "  </thead>\n",
       "  <tbody>\n",
       "    <tr>\n",
       "      <th>0</th>\n",
       "      <td>spam</td>\n",
       "      <td>naturally irresistible your corporate identity...</td>\n",
       "    </tr>\n",
       "    <tr>\n",
       "      <th>1</th>\n",
       "      <td>spam</td>\n",
       "      <td>the stock trading gunslinger fanny is merrill ...</td>\n",
       "    </tr>\n",
       "    <tr>\n",
       "      <th>2</th>\n",
       "      <td>spam</td>\n",
       "      <td>unbelievable new homes made easy im wanting to...</td>\n",
       "    </tr>\n",
       "    <tr>\n",
       "      <th>3</th>\n",
       "      <td>spam</td>\n",
       "      <td>4 color printing special request additional in...</td>\n",
       "    </tr>\n",
       "    <tr>\n",
       "      <th>4</th>\n",
       "      <td>spam</td>\n",
       "      <td>do not have money get software cds from here s...</td>\n",
       "    </tr>\n",
       "    <tr>\n",
       "      <th>...</th>\n",
       "      <td>...</td>\n",
       "      <td>...</td>\n",
       "    </tr>\n",
       "    <tr>\n",
       "      <th>20343</th>\n",
       "      <td>ham</td>\n",
       "      <td>/ban</td>\n",
       "    </tr>\n",
       "    <tr>\n",
       "      <th>20344</th>\n",
       "      <td>ham</td>\n",
       "      <td>/ban</td>\n",
       "    </tr>\n",
       "    <tr>\n",
       "      <th>20345</th>\n",
       "      <td>ham</td>\n",
       "      <td>/ban</td>\n",
       "    </tr>\n",
       "    <tr>\n",
       "      <th>20346</th>\n",
       "      <td>ham</td>\n",
       "      <td>Kaisi hii</td>\n",
       "    </tr>\n",
       "    <tr>\n",
       "      <th>20347</th>\n",
       "      <td>ham</td>\n",
       "      <td>Shock q</td>\n",
       "    </tr>\n",
       "  </tbody>\n",
       "</table>\n",
       "<p>20348 rows × 2 columns</p>\n",
       "</div>"
      ],
      "text/plain": [
       "      label                                               text\n",
       "0      spam  naturally irresistible your corporate identity...\n",
       "1      spam  the stock trading gunslinger fanny is merrill ...\n",
       "2      spam  unbelievable new homes made easy im wanting to...\n",
       "3      spam  4 color printing special request additional in...\n",
       "4      spam  do not have money get software cds from here s...\n",
       "...     ...                                                ...\n",
       "20343   ham                                               /ban\n",
       "20344   ham                                               /ban\n",
       "20345   ham                                               /ban\n",
       "20346   ham                                          Kaisi hii\n",
       "20347   ham                                            Shock q\n",
       "\n",
       "[20348 rows x 2 columns]"
      ]
     },
     "execution_count": 34,
     "metadata": {},
     "output_type": "execute_result"
    }
   ],
   "source": [
    "df"
   ]
  },
  {
   "cell_type": "code",
   "execution_count": 35,
   "id": "cf593cac-a487-4e8c-b0de-0dc9e1935096",
   "metadata": {},
   "outputs": [
    {
     "data": {
      "text/plain": [
       "20348"
      ]
     },
     "execution_count": 35,
     "metadata": {},
     "output_type": "execute_result"
    }
   ],
   "source": [
    "sum(df.text.notna())\n",
    "#there is no null category as well as no null message so we dont need to handle that."
   ]
  },
  {
   "cell_type": "code",
   "execution_count": 36,
   "id": "8714753b-f3b3-4dc5-b275-4308be38c6ae",
   "metadata": {},
   "outputs": [],
   "source": [
    "X = df['text']\n",
    "Y = df['label']"
   ]
  },
  {
   "cell_type": "code",
   "execution_count": 37,
   "id": "9d164ffc-1fe6-4a6e-a6b2-17c36fde2df7",
   "metadata": {},
   "outputs": [],
   "source": [
    "STOPWORDS = stopwords.words(\"english\")"
   ]
  },
  {
   "cell_type": "code",
   "execution_count": 38,
   "id": "e3238534-3852-4573-b4e7-bc20f3fa6330",
   "metadata": {},
   "outputs": [
    {
     "name": "stderr",
     "output_type": "stream",
     "text": [
      "20348it [00:56, 360.99it/s] \n"
     ]
    }
   ],
   "source": [
    "import spacy\n",
    "from tqdm import tqdm\n",
    "import pandas as pd\n",
    "from spacy.lang.en.stop_words import STOP_WORDS as SPACY_STOPWORDS\n",
    "\n",
    "# Load spaCy with minimal components, and enable multi-core processing\n",
    "nlp = spacy.load(\"en_core_web_sm\", disable=[\"ner\", \"parser\",\"entity_linker\"])\n",
    "\n",
    "# Custom preprocessing function that works on a list of texts\n",
    "def text_preprocess(texts, batch_size=1000, n_process=4):\n",
    "    cleaned = []\n",
    "\n",
    "    for doc in tqdm(nlp.pipe(texts, batch_size=batch_size, n_process=n_process)):\n",
    "        tokens = [\n",
    "            token.lemma_.lower() for token in doc\n",
    "            if token.lemma_ != \"-PRON-\"\n",
    "            and token.lemma_.lower() not in SPACY_STOPWORDS\n",
    "            and not token.is_space\n",
    "            and not token.is_punct\n",
    "        ]\n",
    "        cleaned.append(\" \".join(tokens))\n",
    "    \n",
    "    return cleaned\n",
    "\n",
    "\n",
    "X_cleaned = pd.Series(text_preprocess(X.tolist()))\n"
   ]
  },
  {
   "cell_type": "code",
   "execution_count": 39,
   "id": "9bd41b2f-8bcd-4d1c-ba58-6831d8dde7ae",
   "metadata": {},
   "outputs": [],
   "source": [
    "from sklearn.feature_extraction.text import TfidfVectorizer\n",
    "from sklearn.model_selection import train_test_split\n"
   ]
  },
  {
   "cell_type": "code",
   "execution_count": 40,
   "id": "19a44b3c-2271-4383-b7c1-389510d628ed",
   "metadata": {},
   "outputs": [],
   "source": [
    "X_train, X_test, y_train, y_test = train_test_split(\n",
    "    X_cleaned, Y, test_size=0.3, random_state=42, stratify=Y\n",
    ")\n",
    "\n",
    "# Optional but safer\n",
    "X_train = X_train.reset_index(drop=True)\n",
    "X_test = X_test.reset_index(drop=True)\n",
    "y_train = y_train.reset_index(drop=True)\n",
    "y_test = y_test.reset_index(drop=True)"
   ]
  },
  {
   "cell_type": "code",
   "execution_count": 41,
   "id": "67171bf7-9cef-40eb-9970-a47774780873",
   "metadata": {},
   "outputs": [],
   "source": [
    "from sklearn.feature_extraction.text import CountVectorizer, TfidfTransformer\n",
    "from sklearn.pipeline import Pipeline\n",
    "from joblib import parallel_backend\n",
    "\n",
    "# CountVectorizer is a bit faster and lets us control preprocessing\n",
    "count_vectorizer = CountVectorizer(\n",
    "    ngram_range=(1, 2),\n",
    "    min_df=5,\n",
    "    max_df=0.95,\n",
    "    max_features=20000,\n",
    "    lowercase=False\n",
    ")\n",
    "\n",
    "tfidf_transformer = TfidfTransformer()\n",
    "\n",
    "pipeline = Pipeline([\n",
    "    ('vect', count_vectorizer),\n",
    "    ('tfidf', tfidf_transformer)\n",
    "])\n",
    "\n",
    "with parallel_backend('loky', n_jobs=3):  # Use all cores\n",
    "    X_enc = pipeline.fit_transform(X_train)\n",
    "    X_test_enc = pipeline.transform(X_test)"
   ]
  },
  {
   "cell_type": "code",
   "execution_count": 42,
   "id": "82e938c7-507a-48b7-8c1f-55a40334cfb4",
   "metadata": {},
   "outputs": [],
   "source": [
    "X_dense = X_enc.toarray()"
   ]
  },
  {
   "cell_type": "code",
   "execution_count": 43,
   "id": "998bdaf4-3382-45bd-9871-8314a6fa1348",
   "metadata": {},
   "outputs": [
    {
     "name": "stdout",
     "output_type": "stream",
     "text": [
      "Computed class weights: {'ham': 0.7096661684105631, 'spam': 1.6923716730038023}\n"
     ]
    }
   ],
   "source": [
    "from sklearn.utils import class_weight\n",
    "import numpy as np\n",
    "\n",
    "y_train_enc = np.array(y_train)  # Just to be safe\n",
    "\n",
    "class_weights = class_weight.compute_class_weight(\n",
    "    class_weight='balanced',\n",
    "    classes=np.unique(y_train),\n",
    "    y=y_train_enc\n",
    ")\n",
    "\n",
    "class_weight_dict = dict(zip(np.unique(y_train), class_weights))\n",
    "print(\"Computed class weights:\", class_weight_dict)"
   ]
  },
  {
   "cell_type": "code",
   "execution_count": 44,
   "id": "7475b731-413e-4ae7-a309-ebb9192bad4d",
   "metadata": {},
   "outputs": [],
   "source": [
    "from sklearn.preprocessing import LabelEncoder\n",
    "\n",
    "# Initialize and fit encoder\n",
    "le = LabelEncoder()\n",
    "\n",
    "# Transform text labels to integers\n",
    "y_train = le.fit_transform(y_train)\n",
    "\n",
    "# Optional: encode y_test too if needed later\n",
    "y_test = le.transform(y_test)\n"
   ]
  },
  {
   "cell_type": "code",
   "execution_count": 45,
   "id": "59633a9e-7b63-47c1-9777-d3e4e9cfef1f",
   "metadata": {},
   "outputs": [],
   "source": [
    "from gensim.models import Word2Vec\n",
    "import pandas as pd\n",
    "tokenized_corpus = [text.split() for text in X_train]\n",
    "# Tokenize the training data\n",
    "\n",
    "# Train Word2Vec model\n",
    "w2v_model = Word2Vec(\n",
    "    sentences=tokenized_corpus,\n",
    "    vector_size=150,      # You can increase this (e.g., 200, 300)\n",
    "    window=6,             # Context window size\n",
    "    min_count=2,          # Ignore rare words\n",
    "    workers=5,            # Cores for training\n",
    "    sg=1,                 # Use skip-gram; CBOW = 0\n",
    "    epochs=30             # More is better for smaller datasets\n",
    ")\n",
    "w2v_model.save(\"word2vec.model\")"
   ]
  },
  {
   "cell_type": "code",
   "execution_count": 46,
   "id": "80a54c85-3883-4a77-b8df-7f9a015f3192",
   "metadata": {},
   "outputs": [],
   "source": [
    "from collections import defaultdict\n",
    "import numpy as np\n",
    "import math\n",
    "\n",
    "def compute_idf(tokenized_corpus):\n",
    "    \"\"\"Compute IDF dictionary for a tokenized corpus.\"\"\"\n",
    "    N = len(tokenized_corpus)\n",
    "    df = defaultdict(int)\n",
    "\n",
    "    for doc in tokenized_corpus:\n",
    "        unique_tokens = set(doc)\n",
    "        for token in unique_tokens:\n",
    "            df[token] += 1\n",
    "\n",
    "    idf_dict = {}\n",
    "    for word, freq in df.items():\n",
    "        idf_dict[word] = math.log((N + 1) / (freq + 1)) + 1  # Smooth IDF\n",
    "\n",
    "    return idf_dict\n",
    "\n",
    "def get_tfidf_weighted_w2v(tokens_list, model, idf, k=150):\n",
    "    vectors = []\n",
    "    for tokens in tokens_list:\n",
    "        vecs = []\n",
    "        for word in tokens:\n",
    "            if word in model.wv:\n",
    "                weight = idf.get(word, 1.0)\n",
    "                vecs.append(weight * model.wv[word])\n",
    "        if vecs:\n",
    "            vectors.append(np.mean(vecs, axis=0))\n",
    "        else:\n",
    "            vectors.append(np.zeros(k))\n",
    "    return np.vstack(vectors)\n",
    "\n",
    "X_train_tokens = [text.split() for text in X_train]\n",
    "X_test_tokens = [text.split() for text in X_test]\n",
    "idf_dict = compute_idf(X_train_tokens)\n",
    "X_train_vecs = get_tfidf_weighted_w2v(X_train_tokens, w2v_model, idf_dict, k=150)\n",
    "X_test_vecs = get_tfidf_weighted_w2v(X_test_tokens, w2v_model, idf_dict, k=150)"
   ]
  },
  {
   "cell_type": "code",
   "execution_count": 47,
   "id": "0bf0a5df-7e3c-4cab-af56-d09acc340be4",
   "metadata": {},
   "outputs": [],
   "source": [
    "import tensorflow as tf\n",
    "from tensorflow.keras.utils import register_keras_serializable\n",
    "\n",
    "\n",
    "\n",
    "# 1. Define the Focal Loss Function\n",
    "@register_keras_serializable(package=\"Custom\", name=\"focal_loss_fixed\")\n",
    "def focal_loss_fixed(y_true, y_pred, gamma=2.0, alpha=0.25):\n",
    "    \"\"\"\n",
    "    Focal loss function.\n",
    "    Args:\n",
    "        y_true: Ground truth labels (tensor of shape (batch_size, num_classes)).\n",
    "        y_pred: Predicted probabilities (tensor of shape (batch_size, num_classes)).\n",
    "        gamma: Focusing parameter to reduce the relative loss for well-classified examples.\n",
    "        alpha: Weighting factor to balance the importance of positive and negative examples.\n",
    "    Returns:\n",
    "        A scalar tensor representing the mean focal loss.\n",
    "    \"\"\"\n",
    "    # Ensure y_true and y_pred are of the same data type\n",
    "    y_true = tf.cast(y_true, dtype=tf.float32)\n",
    "    y_pred = tf.cast(y_pred, dtype=tf.float32)\n",
    "    bce = tf.keras.backend.binary_crossentropy(y_true, y_pred)\n",
    "    p_t = y_true * y_pred + (1 - y_true) * (1 - y_pred)\n",
    "    loss = alpha * tf.keras.backend.pow((1 - p_t), gamma) * bce\n",
    "    return tf.keras.backend.mean(loss)\n",
    "\n",
    "# 2. Wrapper for Parameterization with proper serialization\n",
    "@register_keras_serializable(package=\"Custom\", name=\"focal_loss\")\n",
    "def focal_loss(gamma=2.0, alpha=0.25):\n",
    "    \"\"\"\n",
    "    A wrapper function to allow you to specify the gamma and alpha\n",
    "    parameters when using the loss.\n",
    "    \"\"\"\n",
    "    @register_keras_serializable(package=\"Custom\", name=\"focal_loss_fn\")\n",
    "    def focal_loss_fn(y_true, y_pred):\n",
    "        return focal_loss_fixed(y_true, y_pred, gamma=gamma, alpha=alpha)\n",
    "    \n",
    "    # These attributes help with serialization\n",
    "    focal_loss_fn.__name__ = \"focal_loss_fn\"\n",
    "    focal_loss_fn._uses_gamma = gamma  # Store parameters as attributes\n",
    "    focal_loss_fn._uses_alpha = alpha\n",
    "    \n",
    "    return focal_loss_fn"
   ]
  },
  {
   "cell_type": "code",
   "execution_count": 49,
   "id": "f2f13366-62b7-45b5-badf-311f1364ef3e",
   "metadata": {},
   "outputs": [
    {
     "name": "stdout",
     "output_type": "stream",
     "text": [
      "Epoch 1/25\n",
      "\u001b[1m90/90\u001b[0m \u001b[32m━━━━━━━━━━━━━━━━━━━━\u001b[0m\u001b[37m\u001b[0m \u001b[1m3s\u001b[0m 8ms/step - accuracy: 0.7070 - auc: 0.7694 - loss: 0.0619 - precision: 0.5088 - recall: 0.6870 - val_accuracy: 0.9214 - val_auc: 0.9627 - val_loss: 0.0217 - val_precision: 0.8384 - val_recall: 0.9100 - learning_rate: 5.0000e-04\n",
      "Epoch 2/25\n",
      "\u001b[1m90/90\u001b[0m \u001b[32m━━━━━━━━━━━━━━━━━━━━\u001b[0m\u001b[37m\u001b[0m \u001b[1m0s\u001b[0m 4ms/step - accuracy: 0.8750 - auc: 0.9260 - loss: 0.0273 - precision: 0.7742 - recall: 0.8079 - val_accuracy: 0.9252 - val_auc: 0.9701 - val_loss: 0.0176 - val_precision: 0.8614 - val_recall: 0.8910 - learning_rate: 5.0000e-04\n",
      "Epoch 3/25\n",
      "\u001b[1m90/90\u001b[0m \u001b[32m━━━━━━━━━━━━━━━━━━━━\u001b[0m\u001b[37m\u001b[0m \u001b[1m0s\u001b[0m 4ms/step - accuracy: 0.8981 - auc: 0.9483 - loss: 0.0223 - precision: 0.8502 - recall: 0.7956 - val_accuracy: 0.9326 - val_auc: 0.9729 - val_loss: 0.0155 - val_precision: 0.8976 - val_recall: 0.8720 - learning_rate: 5.0000e-04\n",
      "Epoch 4/25\n",
      "\u001b[1m90/90\u001b[0m \u001b[32m━━━━━━━━━━━━━━━━━━━━\u001b[0m\u001b[37m\u001b[0m \u001b[1m0s\u001b[0m 3ms/step - accuracy: 0.9077 - auc: 0.9560 - loss: 0.0203 - precision: 0.8543 - recall: 0.8297 - val_accuracy: 0.9417 - val_auc: 0.9768 - val_loss: 0.0146 - val_precision: 0.8942 - val_recall: 0.9111 - learning_rate: 5.0000e-04\n",
      "Epoch 5/25\n",
      "\u001b[1m90/90\u001b[0m \u001b[32m━━━━━━━━━━━━━━━━━━━━\u001b[0m\u001b[37m\u001b[0m \u001b[1m0s\u001b[0m 4ms/step - accuracy: 0.9192 - auc: 0.9663 - loss: 0.0175 - precision: 0.8797 - recall: 0.8482 - val_accuracy: 0.9431 - val_auc: 0.9776 - val_loss: 0.0138 - val_precision: 0.9210 - val_recall: 0.8839 - learning_rate: 5.0000e-04\n",
      "Epoch 6/25\n",
      "\u001b[1m90/90\u001b[0m \u001b[32m━━━━━━━━━━━━━━━━━━━━\u001b[0m\u001b[37m\u001b[0m \u001b[1m0s\u001b[0m 4ms/step - accuracy: 0.9164 - auc: 0.9673 - loss: 0.0174 - precision: 0.9049 - recall: 0.8122 - val_accuracy: 0.9421 - val_auc: 0.9786 - val_loss: 0.0136 - val_precision: 0.9249 - val_recall: 0.8756 - learning_rate: 5.0000e-04\n",
      "Epoch 7/25\n",
      "\u001b[1m90/90\u001b[0m \u001b[32m━━━━━━━━━━━━━━━━━━━━\u001b[0m\u001b[37m\u001b[0m \u001b[1m0s\u001b[0m 4ms/step - accuracy: 0.9299 - auc: 0.9739 - loss: 0.0153 - precision: 0.8852 - recall: 0.8732 - val_accuracy: 0.9488 - val_auc: 0.9803 - val_loss: 0.0128 - val_precision: 0.9235 - val_recall: 0.9017 - learning_rate: 5.0000e-04\n",
      "Epoch 8/25\n",
      "\u001b[1m90/90\u001b[0m \u001b[32m━━━━━━━━━━━━━━━━━━━━\u001b[0m\u001b[37m\u001b[0m \u001b[1m0s\u001b[0m 5ms/step - accuracy: 0.9331 - auc: 0.9780 - loss: 0.0141 - precision: 0.8994 - recall: 0.8742 - val_accuracy: 0.9473 - val_auc: 0.9810 - val_loss: 0.0126 - val_precision: 0.9370 - val_recall: 0.8815 - learning_rate: 5.0000e-04\n",
      "Epoch 9/25\n",
      "\u001b[1m90/90\u001b[0m \u001b[32m━━━━━━━━━━━━━━━━━━━━\u001b[0m\u001b[37m\u001b[0m \u001b[1m0s\u001b[0m 4ms/step - accuracy: 0.9408 - auc: 0.9814 - loss: 0.0130 - precision: 0.9106 - recall: 0.8869 - val_accuracy: 0.9491 - val_auc: 0.9823 - val_loss: 0.0120 - val_precision: 0.9186 - val_recall: 0.9088 - learning_rate: 5.0000e-04\n",
      "Epoch 10/25\n",
      "\u001b[1m90/90\u001b[0m \u001b[32m━━━━━━━━━━━━━━━━━━━━\u001b[0m\u001b[37m\u001b[0m \u001b[1m0s\u001b[0m 4ms/step - accuracy: 0.9426 - auc: 0.9814 - loss: 0.0127 - precision: 0.9122 - recall: 0.8884 - val_accuracy: 0.9498 - val_auc: 0.9831 - val_loss: 0.0120 - val_precision: 0.9119 - val_recall: 0.9194 - learning_rate: 5.0000e-04\n",
      "Epoch 11/25\n",
      "\u001b[1m90/90\u001b[0m \u001b[32m━━━━━━━━━━━━━━━━━━━━\u001b[0m\u001b[37m\u001b[0m \u001b[1m0s\u001b[0m 4ms/step - accuracy: 0.9441 - auc: 0.9848 - loss: 0.0118 - precision: 0.9102 - recall: 0.9028 - val_accuracy: 0.9512 - val_auc: 0.9836 - val_loss: 0.0116 - val_precision: 0.9252 - val_recall: 0.9088 - learning_rate: 5.0000e-04\n",
      "Epoch 12/25\n",
      "\u001b[1m90/90\u001b[0m \u001b[32m━━━━━━━━━━━━━━━━━━━━\u001b[0m\u001b[37m\u001b[0m \u001b[1m0s\u001b[0m 4ms/step - accuracy: 0.9483 - auc: 0.9859 - loss: 0.0113 - precision: 0.9272 - recall: 0.8996 - val_accuracy: 0.9488 - val_auc: 0.9834 - val_loss: 0.0120 - val_precision: 0.9440 - val_recall: 0.8791 - learning_rate: 5.0000e-04\n",
      "Epoch 13/25\n",
      "\u001b[1m90/90\u001b[0m \u001b[32m━━━━━━━━━━━━━━━━━━━━\u001b[0m\u001b[37m\u001b[0m \u001b[1m0s\u001b[0m 3ms/step - accuracy: 0.9510 - auc: 0.9877 - loss: 0.0104 - precision: 0.9300 - recall: 0.8997 - val_accuracy: 0.9484 - val_auc: 0.9840 - val_loss: 0.0119 - val_precision: 0.9406 - val_recall: 0.8815 - learning_rate: 5.0000e-04\n",
      "Epoch 14/25\n",
      "\u001b[1m90/90\u001b[0m \u001b[32m━━━━━━━━━━━━━━━━━━━━\u001b[0m\u001b[37m\u001b[0m \u001b[1m0s\u001b[0m 4ms/step - accuracy: 0.9494 - auc: 0.9860 - loss: 0.0110 - precision: 0.9209 - recall: 0.9050 - val_accuracy: 0.9533 - val_auc: 0.9837 - val_loss: 0.0117 - val_precision: 0.9394 - val_recall: 0.9005 - learning_rate: 2.5000e-04\n",
      "Epoch 15/25\n",
      "\u001b[1m90/90\u001b[0m \u001b[32m━━━━━━━━━━━━━━━━━━━━\u001b[0m\u001b[37m\u001b[0m \u001b[1m0s\u001b[0m 4ms/step - accuracy: 0.9506 - auc: 0.9858 - loss: 0.0111 - precision: 0.9217 - recall: 0.9052 - val_accuracy: 0.9544 - val_auc: 0.9843 - val_loss: 0.0115 - val_precision: 0.9375 - val_recall: 0.9064 - learning_rate: 2.5000e-04\n",
      "Epoch 16/25\n",
      "\u001b[1m90/90\u001b[0m \u001b[32m━━━━━━━━━━━━━━━━━━━━\u001b[0m\u001b[37m\u001b[0m \u001b[1m0s\u001b[0m 4ms/step - accuracy: 0.9548 - auc: 0.9882 - loss: 0.0102 - precision: 0.9348 - recall: 0.9116 - val_accuracy: 0.9565 - val_auc: 0.9845 - val_loss: 0.0112 - val_precision: 0.9317 - val_recall: 0.9206 - learning_rate: 1.2500e-04\n",
      "Epoch 17/25\n",
      "\u001b[1m90/90\u001b[0m \u001b[32m━━━━━━━━━━━━━━━━━━━━\u001b[0m\u001b[37m\u001b[0m \u001b[1m0s\u001b[0m 4ms/step - accuracy: 0.9535 - auc: 0.9886 - loss: 0.0099 - precision: 0.9259 - recall: 0.9158 - val_accuracy: 0.9568 - val_auc: 0.9845 - val_loss: 0.0112 - val_precision: 0.9307 - val_recall: 0.9230 - learning_rate: 1.2500e-04\n",
      "Epoch 18/25\n",
      "\u001b[1m90/90\u001b[0m \u001b[32m━━━━━━━━━━━━━━━━━━━━\u001b[0m\u001b[37m\u001b[0m \u001b[1m0s\u001b[0m 4ms/step - accuracy: 0.9533 - auc: 0.9894 - loss: 0.0096 - precision: 0.9344 - recall: 0.9063 - val_accuracy: 0.9568 - val_auc: 0.9845 - val_loss: 0.0112 - val_precision: 0.9328 - val_recall: 0.9206 - learning_rate: 1.2500e-04\n",
      "Epoch 19/25\n",
      "\u001b[1m90/90\u001b[0m \u001b[32m━━━━━━━━━━━━━━━━━━━━\u001b[0m\u001b[37m\u001b[0m \u001b[1m0s\u001b[0m 4ms/step - accuracy: 0.9585 - auc: 0.9903 - loss: 0.0093 - precision: 0.9280 - recall: 0.9253 - val_accuracy: 0.9551 - val_auc: 0.9844 - val_loss: 0.0112 - val_precision: 0.9345 - val_recall: 0.9123 - learning_rate: 6.2500e-05\n",
      "Epoch 20/25\n",
      "\u001b[1m90/90\u001b[0m \u001b[32m━━━━━━━━━━━━━━━━━━━━\u001b[0m\u001b[37m\u001b[0m \u001b[1m0s\u001b[0m 4ms/step - accuracy: 0.9520 - auc: 0.9886 - loss: 0.0102 - precision: 0.9333 - recall: 0.9032 - val_accuracy: 0.9561 - val_auc: 0.9843 - val_loss: 0.0112 - val_precision: 0.9347 - val_recall: 0.9159 - learning_rate: 6.2500e-05\n",
      "Epoch 21/25\n",
      "\u001b[1m90/90\u001b[0m \u001b[32m━━━━━━━━━━━━━━━━━━━━\u001b[0m\u001b[37m\u001b[0m \u001b[1m0s\u001b[0m 4ms/step - accuracy: 0.9540 - auc: 0.9891 - loss: 0.0099 - precision: 0.9300 - recall: 0.9138 - val_accuracy: 0.9551 - val_auc: 0.9842 - val_loss: 0.0113 - val_precision: 0.9366 - val_recall: 0.9100 - learning_rate: 3.1250e-05\n",
      "Epoch 22/25\n",
      "\u001b[1m90/90\u001b[0m \u001b[32m━━━━━━━━━━━━━━━━━━━━\u001b[0m\u001b[37m\u001b[0m \u001b[1m0s\u001b[0m 4ms/step - accuracy: 0.9551 - auc: 0.9881 - loss: 0.0101 - precision: 0.9377 - recall: 0.9078 - val_accuracy: 0.9561 - val_auc: 0.9843 - val_loss: 0.0112 - val_precision: 0.9347 - val_recall: 0.9159 - learning_rate: 3.1250e-05\n",
      "Epoch 23/25\n",
      "\u001b[1m90/90\u001b[0m \u001b[32m━━━━━━━━━━━━━━━━━━━━\u001b[0m\u001b[37m\u001b[0m \u001b[1m0s\u001b[0m 4ms/step - accuracy: 0.9569 - auc: 0.9904 - loss: 0.0094 - precision: 0.9391 - recall: 0.9136 - val_accuracy: 0.9554 - val_auc: 0.9843 - val_loss: 0.0113 - val_precision: 0.9388 - val_recall: 0.9088 - learning_rate: 1.5625e-05\n",
      "Epoch 24/25\n",
      "\u001b[1m90/90\u001b[0m \u001b[32m━━━━━━━━━━━━━━━━━━━━\u001b[0m\u001b[37m\u001b[0m \u001b[1m0s\u001b[0m 4ms/step - accuracy: 0.9586 - auc: 0.9892 - loss: 0.0098 - precision: 0.9438 - recall: 0.9176 - val_accuracy: 0.9558 - val_auc: 0.9843 - val_loss: 0.0113 - val_precision: 0.9346 - val_recall: 0.9147 - learning_rate: 1.5625e-05\n",
      "Epoch 25/25\n",
      "\u001b[1m90/90\u001b[0m \u001b[32m━━━━━━━━━━━━━━━━━━━━\u001b[0m\u001b[37m\u001b[0m \u001b[1m0s\u001b[0m 4ms/step - accuracy: 0.9598 - auc: 0.9910 - loss: 0.0090 - precision: 0.9486 - recall: 0.9161 - val_accuracy: 0.9558 - val_auc: 0.9843 - val_loss: 0.0113 - val_precision: 0.9315 - val_recall: 0.9182 - learning_rate: 7.8125e-06\n"
     ]
    },
    {
     "data": {
      "text/plain": [
       "<keras.src.callbacks.history.History at 0x1c3bd33ade0>"
      ]
     },
     "execution_count": 49,
     "metadata": {},
     "output_type": "execute_result"
    }
   ],
   "source": [
    "from tensorflow.keras.models import Sequential\n",
    "from tensorflow.keras.layers import Input, Dense, Dropout, BatchNormalization\n",
    "from tensorflow.keras.optimizers import Adam\n",
    "from tensorflow.keras.callbacks import EarlyStopping, ReduceLROnPlateau\n",
    "from tensorflow.keras.metrics import Precision, Recall, AUC\n",
    "\n",
    "\n",
    "w2v_modelNN = Sequential([\n",
    "    Input(shape=(X_train_vecs.shape[1],)),  # Should be 100 or whatever you used in Word2Vec\n",
    "    Dense(256, activation='relu'),\n",
    "    Dropout(0.3),\n",
    "    Dense(128,activation=\"relu\"),\n",
    "    Dropout(0.3),\n",
    "    Dense(32,activation=\"relu\"),\n",
    "    BatchNormalization(),\n",
    "    Dense(1, activation='sigmoid')\n",
    "])\n",
    "w2v_modelNN.compile(\n",
    "    optimizer=Adam(learning_rate=5e-4),\n",
    "    loss=focal_loss(gamma=1.7, alpha=0.25),  # Notice the parentheses here\n",
    "    metrics=['accuracy', Precision(), Recall(), AUC()]\n",
    ")\n",
    "early_stopping = EarlyStopping(monitor='val_loss', patience=7, restore_best_weights=True)\n",
    "lr_reduction = ReduceLROnPlateau(monitor='val_loss', factor=0.5, patience=2, min_lr=1e-6)\n",
    "\n",
    "w2v_modelNN.fit(\n",
    "    X_train_vecs, \n",
    "    y_train, \n",
    "    epochs=25, \n",
    "    batch_size=128, \n",
    "    validation_split=0.2, \n",
    "    class_weight=class_weight_dict, \n",
    "    callbacks=[early_stopping, lr_reduction]\n",
    ")\n"
   ]
  },
  {
   "cell_type": "code",
   "execution_count": 50,
   "id": "52b4b69b-423c-4db0-840b-2b034e9aef2e",
   "metadata": {},
   "outputs": [
    {
     "name": "stdout",
     "output_type": "stream",
     "text": [
      "\u001b[1m191/191\u001b[0m \u001b[32m━━━━━━━━━━━━━━━━━━━━\u001b[0m\u001b[37m\u001b[0m \u001b[1m0s\u001b[0m 968us/step\n",
      "Confusion Matrix:\n",
      " [[4132  170]\n",
      " [ 131 1672]]\n",
      "\n",
      "Classification Report:\n",
      "               precision    recall  f1-score   support\n",
      "\n",
      "         Ham       0.97      0.96      0.96      4302\n",
      "        Spam       0.91      0.93      0.92      1803\n",
      "\n",
      "    accuracy                           0.95      6105\n",
      "   macro avg       0.94      0.94      0.94      6105\n",
      "weighted avg       0.95      0.95      0.95      6105\n",
      "\n"
     ]
    },
    {
     "data": {
      "image/png": "[encoded data removed]",
      "text/plain": [
       "<Figure size 800x600 with 1 Axes>"
      ]
     },
     "metadata": {},
     "output_type": "display_data"
    }
   ],
   "source": [
    "#w2v ann model test results\n",
    "\n",
    "import numpy as np\n",
    "\n",
    "# Get raw probability predictions\n",
    "y_pred_prob = w2v_modelNN.predict(X_test_vecs)\n",
    "\n",
    "# Convert probabilities to binary predictions using a threshold\n",
    "threshold = 0.5  # You can tune this\n",
    "y_pred = (y_pred_prob > threshold).astype(int).flatten()\n",
    "\n",
    "from sklearn.metrics import confusion_matrix, classification_report\n",
    "\n",
    "# Confusion matrix\n",
    "cm = confusion_matrix(y_test, y_pred)\n",
    "print(\"Confusion Matrix:\\n\", cm)\n",
    "\n",
    "# Classification report\n",
    "cr = classification_report(y_test, y_pred, target_names=[\"Ham\", \"Spam\"])\n",
    "print(\"\\nClassification Report:\\n\", cr)\n",
    "\n",
    "import matplotlib.pyplot as plt\n",
    "from sklearn.metrics import roc_curve, auc\n",
    "\n",
    "fpr, tpr, _ = roc_curve(y_test, y_pred_prob)\n",
    "roc_auc = auc(fpr, tpr)\n",
    "\n",
    "plt.figure(figsize=(8,6))\n",
    "plt.plot(fpr, tpr, color='darkorange', lw=2, label=f\"ROC curve (AUC = {roc_auc:.2f})\")\n",
    "plt.plot([0, 1], [0, 1], color='navy', lw=2, linestyle='--')\n",
    "plt.xlabel(\"False Positive Rate\")\n",
    "plt.ylabel(\"True Positive Rate\")\n",
    "plt.title(\"Receiver Operating Characteristic (ROC)\")\n",
    "plt.legend(loc=\"lower right\")\n",
    "plt.grid()\n",
    "plt.show()"
   ]
  },
  {
   "cell_type": "code",
   "execution_count": 51,
   "id": "820d802e-5e41-4e56-8d6b-5b305a8b807d",
   "metadata": {},
   "outputs": [],
   "source": [
    "def predict_w2v(text, k=150):\n",
    "    # Ensure input is a single string\n",
    "    if not isinstance(text, str):\n",
    "        raise ValueError(\"Input should be a single string of text.\")\n",
    "    \n",
    "    # Preprocess using your batch-friendly function\n",
    "    cleaned_text = text_preprocess([text])[0]  # returns list; take first element\n",
    "    tokens = cleaned_text.split()\n",
    "\n",
    "    # Compute TF-IDF weighted average Word2Vec vector\n",
    "    vecs = []\n",
    "    for word in tokens:\n",
    "        if word in w2v_model.wv:\n",
    "            weight = idf_dict.get(word, 1.0)\n",
    "            vecs.append(weight * w2v_model.wv[word])\n",
    "    \n",
    "    if vecs:\n",
    "        input_vector = np.mean(vecs, axis=0).reshape(1, -1)\n",
    "    else:\n",
    "        input_vector = np.zeros((1, k))  # fallback if no known tokens\n",
    "\n",
    "    # Predict\n",
    "    probability = w2v_modelNN.predict(input_vector)[0][0]\n",
    "    print(f\"[DEBUG] Probability: {probability:.4f}\")\n",
    "    \n",
    "    predicted_class = (probability > 0.5).astype(int)  # Threshold can be tuned\n",
    "    return \"spam\" if predicted_class == 1 else \"ham\""
   ]
  },
  {
   "cell_type": "code",
   "execution_count": 52,
   "id": "646ad580-b85a-45f5-828d-0ce065cc2bed",
   "metadata": {},
   "outputs": [
    {
     "name": "stderr",
     "output_type": "stream",
     "text": [
      "1it [00:14, 14.44s/it]"
     ]
    },
    {
     "name": "stdout",
     "output_type": "stream",
     "text": [
      "\u001b[1m1/1\u001b[0m \u001b[32m━━━━━━━━━━━━━━━━━━━━\u001b[0m\u001b[37m\u001b[0m \u001b[1m0s\u001b[0m 34ms/step\n",
      "[DEBUG] Probability: 0.9242\n",
      "Prediction: spam\n"
     ]
    },
    {
     "name": "stderr",
     "output_type": "stream",
     "text": [
      "\n"
     ]
    }
   ],
   "source": [
    "my_text = \"Congrats! You’ve won a free iPhone. Call now!\"\n",
    "result = predict_w2v(my_text)\n",
    "print(\"Prediction:\", result)"
   ]
  },
  {
   "cell_type": "code",
   "execution_count": 53,
   "id": "4bae41a8-150f-4fc2-9e96-7d6131525777",
   "metadata": {},
   "outputs": [
    {
     "name": "stderr",
     "output_type": "stream",
     "text": [
      "1it [00:14, 14.60s/it]"
     ]
    },
    {
     "name": "stdout",
     "output_type": "stream",
     "text": [
      "\u001b[1m1/1\u001b[0m \u001b[32m━━━━━━━━━━━━━━━━━━━━\u001b[0m\u001b[37m\u001b[0m \u001b[1m0s\u001b[0m 30ms/step\n",
      "[DEBUG] Probability: 0.1929\n"
     ]
    },
    {
     "name": "stderr",
     "output_type": "stream",
     "text": [
      "\n"
     ]
    },
    {
     "data": {
      "text/plain": [
       "'ham'"
      ]
     },
     "execution_count": 53,
     "metadata": {},
     "output_type": "execute_result"
    }
   ],
   "source": [
    "my_text = \"Happy birthday! Wishing you an amazing year ahead.\"\n",
    "predict_w2v(my_text)"
   ]
  },
  {
   "cell_type": "code",
   "execution_count": 54,
   "id": "a0a6f4df-14a1-4069-8b9c-4f98564e0005",
   "metadata": {},
   "outputs": [],
   "source": [
    "w2v_modelNN.save('w2v_model.keras')  # Save model as a single keras file\n"
   ]
  },
  {
   "cell_type": "code",
   "execution_count": 55,
   "id": "b4b4cd77",
   "metadata": {},
   "outputs": [
    {
     "name": "stdout",
     "output_type": "stream",
     "text": [
      "[01] Text: \"Hey, are we still meeting for lunch today?\"\n"
     ]
    },
    {
     "name": "stderr",
     "output_type": "stream",
     "text": [
      "1it [00:16, 16.24s/it]"
     ]
    },
    {
     "name": "stdout",
     "output_type": "stream",
     "text": [
      "\u001b[1m1/1\u001b[0m \u001b[32m━━━━━━━━━━━━━━━━━━━━\u001b[0m\u001b[37m\u001b[0m \u001b[1m0s\u001b[0m 43ms/step\n"
     ]
    },
    {
     "name": "stderr",
     "output_type": "stream",
     "text": [
      "\n"
     ]
    },
    {
     "name": "stdout",
     "output_type": "stream",
     "text": [
      "[DEBUG] Probability: 0.1125\n",
      "     → [W2V Model]    Prediction: HAM\n",
      "\n",
      "[02] Text: \"Don't forget to bring your laptop to the meeting.\"\n"
     ]
    },
    {
     "name": "stderr",
     "output_type": "stream",
     "text": [
      "1it [00:15, 15.07s/it]"
     ]
    },
    {
     "name": "stdout",
     "output_type": "stream",
     "text": [
      "\u001b[1m1/1\u001b[0m \u001b[32m━━━━━━━━━━━━━━━━━━━━\u001b[0m\u001b[37m\u001b[0m \u001b[1m0s\u001b[0m 38ms/step\n"
     ]
    },
    {
     "name": "stderr",
     "output_type": "stream",
     "text": [
      "\n"
     ]
    },
    {
     "name": "stdout",
     "output_type": "stream",
     "text": [
      "[DEBUG] Probability: 0.0838\n",
      "     → [W2V Model]    Prediction: HAM\n",
      "\n",
      "[03] Text: \"Can you send me the notes from class?\"\n"
     ]
    },
    {
     "name": "stderr",
     "output_type": "stream",
     "text": [
      "1it [00:15, 15.32s/it]"
     ]
    },
    {
     "name": "stdout",
     "output_type": "stream",
     "text": [
      "\u001b[1m1/1\u001b[0m \u001b[32m━━━━━━━━━━━━━━━━━━━━\u001b[0m\u001b[37m\u001b[0m \u001b[1m0s\u001b[0m 55ms/step\n"
     ]
    },
    {
     "name": "stderr",
     "output_type": "stream",
     "text": [
      "\n"
     ]
    },
    {
     "name": "stdout",
     "output_type": "stream",
     "text": [
      "[DEBUG] Probability: 0.2539\n",
      "     → [W2V Model]    Prediction: HAM\n",
      "\n",
      "[04] Text: \"I’ll be home late tonight, save me some food.\"\n"
     ]
    },
    {
     "name": "stderr",
     "output_type": "stream",
     "text": [
      "1it [00:15, 15.49s/it]"
     ]
    },
    {
     "name": "stdout",
     "output_type": "stream",
     "text": [
      "\u001b[1m1/1\u001b[0m \u001b[32m━━━━━━━━━━━━━━━━━━━━\u001b[0m\u001b[37m\u001b[0m \u001b[1m0s\u001b[0m 34ms/step\n"
     ]
    },
    {
     "name": "stderr",
     "output_type": "stream",
     "text": [
      "\n"
     ]
    },
    {
     "name": "stdout",
     "output_type": "stream",
     "text": [
      "[DEBUG] Probability: 0.1052\n",
      "     → [W2V Model]    Prediction: HAM\n",
      "\n",
      "[05] Text: \"Congrats on your new job!\"\n"
     ]
    },
    {
     "name": "stderr",
     "output_type": "stream",
     "text": [
      "1it [00:16, 16.08s/it]"
     ]
    },
    {
     "name": "stdout",
     "output_type": "stream",
     "text": [
      "\u001b[1m1/1\u001b[0m \u001b[32m━━━━━━━━━━━━━━━━━━━━\u001b[0m\u001b[37m\u001b[0m \u001b[1m0s\u001b[0m 43ms/step\n"
     ]
    },
    {
     "name": "stderr",
     "output_type": "stream",
     "text": [
      "\n"
     ]
    },
    {
     "name": "stdout",
     "output_type": "stream",
     "text": [
      "[DEBUG] Probability: 0.2053\n",
      "     → [W2V Model]    Prediction: HAM\n",
      "\n",
      "[06] Text: \"Call me when you're free.\"\n"
     ]
    },
    {
     "name": "stderr",
     "output_type": "stream",
     "text": [
      "1it [00:15, 15.39s/it]"
     ]
    },
    {
     "name": "stdout",
     "output_type": "stream",
     "text": [
      "\u001b[1m1/1\u001b[0m \u001b[32m━━━━━━━━━━━━━━━━━━━━\u001b[0m\u001b[37m\u001b[0m \u001b[1m0s\u001b[0m 41ms/step\n"
     ]
    },
    {
     "name": "stderr",
     "output_type": "stream",
     "text": [
      "\n"
     ]
    },
    {
     "name": "stdout",
     "output_type": "stream",
     "text": [
      "[DEBUG] Probability: 0.1651\n",
      "     → [W2V Model]    Prediction: HAM\n",
      "\n",
      "[07] Text: \"Let’s catch up this weekend!\"\n"
     ]
    },
    {
     "name": "stderr",
     "output_type": "stream",
     "text": [
      "1it [00:16, 16.32s/it]"
     ]
    },
    {
     "name": "stdout",
     "output_type": "stream",
     "text": [
      "\u001b[1m1/1\u001b[0m \u001b[32m━━━━━━━━━━━━━━━━━━━━\u001b[0m\u001b[37m\u001b[0m \u001b[1m0s\u001b[0m 47ms/step\n"
     ]
    },
    {
     "name": "stderr",
     "output_type": "stream",
     "text": [
      "\n"
     ]
    },
    {
     "name": "stdout",
     "output_type": "stream",
     "text": [
      "[DEBUG] Probability: 0.0587\n",
      "     → [W2V Model]    Prediction: HAM\n",
      "\n",
      "[08] Text: \"The movie was amazing, you have to watch it!\"\n"
     ]
    },
    {
     "name": "stderr",
     "output_type": "stream",
     "text": [
      "1it [00:15, 15.62s/it]"
     ]
    },
    {
     "name": "stdout",
     "output_type": "stream",
     "text": [
      "\u001b[1m1/1\u001b[0m \u001b[32m━━━━━━━━━━━━━━━━━━━━\u001b[0m\u001b[37m\u001b[0m \u001b[1m0s\u001b[0m 42ms/step\n"
     ]
    },
    {
     "name": "stderr",
     "output_type": "stream",
     "text": [
      "\n"
     ]
    },
    {
     "name": "stdout",
     "output_type": "stream",
     "text": [
      "[DEBUG] Probability: 0.5188\n",
      "     → [W2V Model]    Prediction: SPAM\n",
      "\n",
      "[09] Text: \"Happy anniversary to you both!\"\n"
     ]
    },
    {
     "name": "stderr",
     "output_type": "stream",
     "text": [
      "1it [00:16, 16.51s/it]"
     ]
    },
    {
     "name": "stdout",
     "output_type": "stream",
     "text": [
      "\u001b[1m1/1\u001b[0m \u001b[32m━━━━━━━━━━━━━━━━━━━━\u001b[0m\u001b[37m\u001b[0m \u001b[1m0s\u001b[0m 50ms/step\n"
     ]
    },
    {
     "name": "stderr",
     "output_type": "stream",
     "text": [
      "\n"
     ]
    },
    {
     "name": "stdout",
     "output_type": "stream",
     "text": [
      "[DEBUG] Probability: 0.0364\n",
      "     → [W2V Model]    Prediction: HAM\n",
      "\n",
      "[10] Text: \"Mom asked if you’re coming for dinner tonight.\"\n"
     ]
    },
    {
     "name": "stderr",
     "output_type": "stream",
     "text": [
      "1it [00:19, 19.04s/it]"
     ]
    },
    {
     "name": "stdout",
     "output_type": "stream",
     "text": [
      "\u001b[1m1/1\u001b[0m \u001b[32m━━━━━━━━━━━━━━━━━━━━\u001b[0m\u001b[37m\u001b[0m \u001b[1m0s\u001b[0m 75ms/step\n"
     ]
    },
    {
     "name": "stderr",
     "output_type": "stream",
     "text": [
      "\n"
     ]
    },
    {
     "name": "stdout",
     "output_type": "stream",
     "text": [
      "[DEBUG] Probability: 0.0498\n",
      "     → [W2V Model]    Prediction: HAM\n",
      "\n",
      "[11] Text: \"Win a brand new iPhone! Click here to claim now!\"\n"
     ]
    },
    {
     "name": "stderr",
     "output_type": "stream",
     "text": [
      "1it [00:16, 16.96s/it]"
     ]
    },
    {
     "name": "stdout",
     "output_type": "stream",
     "text": [
      "\u001b[1m1/1\u001b[0m \u001b[32m━━━━━━━━━━━━━━━━━━━━\u001b[0m\u001b[37m\u001b[0m \u001b[1m0s\u001b[0m 42ms/step\n"
     ]
    },
    {
     "name": "stderr",
     "output_type": "stream",
     "text": [
      "\n"
     ]
    },
    {
     "name": "stdout",
     "output_type": "stream",
     "text": [
      "[DEBUG] Probability: 0.9300\n",
      "     → [W2V Model]    Prediction: SPAM\n",
      "\n",
      "[12] Text: \"Congratulations! You’ve been selected for a cash p...\"\n"
     ]
    },
    {
     "name": "stderr",
     "output_type": "stream",
     "text": [
      "1it [00:15, 15.30s/it]"
     ]
    },
    {
     "name": "stdout",
     "output_type": "stream",
     "text": [
      "\u001b[1m1/1\u001b[0m \u001b[32m━━━━━━━━━━━━━━━━━━━━\u001b[0m\u001b[37m\u001b[0m \u001b[1m0s\u001b[0m 48ms/step\n"
     ]
    },
    {
     "name": "stderr",
     "output_type": "stream",
     "text": [
      "\n"
     ]
    },
    {
     "name": "stdout",
     "output_type": "stream",
     "text": [
      "[DEBUG] Probability: 0.8507\n",
      "     → [W2V Model]    Prediction: SPAM\n",
      "\n",
      "[13] Text: \"URGENT! Your account has been compromised. Verify ...\"\n"
     ]
    },
    {
     "name": "stderr",
     "output_type": "stream",
     "text": [
      "1it [00:15, 15.40s/it]"
     ]
    },
    {
     "name": "stdout",
     "output_type": "stream",
     "text": [
      "\u001b[1m1/1\u001b[0m \u001b[32m━━━━━━━━━━━━━━━━━━━━\u001b[0m\u001b[37m\u001b[0m \u001b[1m0s\u001b[0m 48ms/step\n"
     ]
    },
    {
     "name": "stderr",
     "output_type": "stream",
     "text": [
      "\n"
     ]
    },
    {
     "name": "stdout",
     "output_type": "stream",
     "text": [
      "[DEBUG] Probability: 0.5718\n",
      "     → [W2V Model]    Prediction: SPAM\n",
      "\n",
      "[14] Text: \"Lowest mortgage rates available now. Don’t miss ou...\"\n"
     ]
    },
    {
     "name": "stderr",
     "output_type": "stream",
     "text": [
      "1it [00:15, 15.31s/it]"
     ]
    },
    {
     "name": "stdout",
     "output_type": "stream",
     "text": [
      "\u001b[1m1/1\u001b[0m \u001b[32m━━━━━━━━━━━━━━━━━━━━\u001b[0m\u001b[37m\u001b[0m \u001b[1m0s\u001b[0m 39ms/step\n"
     ]
    },
    {
     "name": "stderr",
     "output_type": "stream",
     "text": [
      "\n"
     ]
    },
    {
     "name": "stdout",
     "output_type": "stream",
     "text": [
      "[DEBUG] Probability: 0.8920\n",
      "     → [W2V Model]    Prediction: SPAM\n",
      "\n",
      "[15] Text: \"Act now and get 50% off all supplements!\"\n"
     ]
    },
    {
     "name": "stderr",
     "output_type": "stream",
     "text": [
      "1it [00:15, 15.31s/it]"
     ]
    },
    {
     "name": "stdout",
     "output_type": "stream",
     "text": [
      "\u001b[1m1/1\u001b[0m \u001b[32m━━━━━━━━━━━━━━━━━━━━\u001b[0m\u001b[37m\u001b[0m \u001b[1m0s\u001b[0m 40ms/step\n"
     ]
    },
    {
     "name": "stderr",
     "output_type": "stream",
     "text": [
      "\n"
     ]
    },
    {
     "name": "stdout",
     "output_type": "stream",
     "text": [
      "[DEBUG] Probability: 0.1005\n",
      "     → [W2V Model]    Prediction: HAM\n",
      "\n",
      "[16] Text: \"Limited time offer! Get rich working from home!\"\n"
     ]
    },
    {
     "name": "stderr",
     "output_type": "stream",
     "text": [
      "1it [00:15, 15.32s/it]"
     ]
    },
    {
     "name": "stdout",
     "output_type": "stream",
     "text": [
      "\u001b[1m1/1\u001b[0m \u001b[32m━━━━━━━━━━━━━━━━━━━━\u001b[0m\u001b[37m\u001b[0m \u001b[1m0s\u001b[0m 41ms/step\n"
     ]
    },
    {
     "name": "stderr",
     "output_type": "stream",
     "text": [
      "\n"
     ]
    },
    {
     "name": "stdout",
     "output_type": "stream",
     "text": [
      "[DEBUG] Probability: 0.7066\n",
      "     → [W2V Model]    Prediction: SPAM\n",
      "\n",
      "[17] Text: \"You've won a lottery worth $1,000,000!\"\n"
     ]
    },
    {
     "name": "stderr",
     "output_type": "stream",
     "text": [
      "1it [00:17, 17.14s/it]"
     ]
    },
    {
     "name": "stdout",
     "output_type": "stream",
     "text": [
      "\u001b[1m1/1\u001b[0m \u001b[32m━━━━━━━━━━━━━━━━━━━━\u001b[0m\u001b[37m\u001b[0m \u001b[1m0s\u001b[0m 46ms/step\n"
     ]
    },
    {
     "name": "stderr",
     "output_type": "stream",
     "text": [
      "\n"
     ]
    },
    {
     "name": "stdout",
     "output_type": "stream",
     "text": [
      "[DEBUG] Probability: 0.8389\n",
      "     → [W2V Model]    Prediction: SPAM\n",
      "\n",
      "[18] Text: \"Exclusive deal just for you. Buy now!\"\n"
     ]
    },
    {
     "name": "stderr",
     "output_type": "stream",
     "text": [
      "1it [00:17, 17.22s/it]"
     ]
    },
    {
     "name": "stdout",
     "output_type": "stream",
     "text": [
      "\u001b[1m1/1\u001b[0m \u001b[32m━━━━━━━━━━━━━━━━━━━━\u001b[0m\u001b[37m\u001b[0m \u001b[1m0s\u001b[0m 39ms/step\n"
     ]
    },
    {
     "name": "stderr",
     "output_type": "stream",
     "text": [
      "\n"
     ]
    },
    {
     "name": "stdout",
     "output_type": "stream",
     "text": [
      "[DEBUG] Probability: 0.8099\n",
      "     → [W2V Model]    Prediction: SPAM\n",
      "\n",
      "[19] Text: \"FREE gift card with every purchase over $50.\"\n"
     ]
    },
    {
     "name": "stderr",
     "output_type": "stream",
     "text": [
      "1it [00:15, 15.38s/it]"
     ]
    },
    {
     "name": "stdout",
     "output_type": "stream",
     "text": [
      "\u001b[1m1/1\u001b[0m \u001b[32m━━━━━━━━━━━━━━━━━━━━\u001b[0m\u001b[37m\u001b[0m \u001b[1m0s\u001b[0m 40ms/step\n"
     ]
    },
    {
     "name": "stderr",
     "output_type": "stream",
     "text": [
      "\n"
     ]
    },
    {
     "name": "stdout",
     "output_type": "stream",
     "text": [
      "[DEBUG] Probability: 0.9100\n",
      "     → [W2V Model]    Prediction: SPAM\n",
      "\n",
      "[20] Text: \"Earn money fast with this simple trick!\"\n"
     ]
    },
    {
     "name": "stderr",
     "output_type": "stream",
     "text": [
      "1it [00:15, 15.37s/it]"
     ]
    },
    {
     "name": "stdout",
     "output_type": "stream",
     "text": [
      "\u001b[1m1/1\u001b[0m \u001b[32m━━━━━━━━━━━━━━━━━━━━\u001b[0m\u001b[37m\u001b[0m \u001b[1m0s\u001b[0m 40ms/step\n"
     ]
    },
    {
     "name": "stderr",
     "output_type": "stream",
     "text": [
      "\n"
     ]
    },
    {
     "name": "stdout",
     "output_type": "stream",
     "text": [
      "[DEBUG] Probability: 0.5866\n",
      "     → [W2V Model]    Prediction: SPAM\n",
      "\n",
      "[21] Text: \"Your credit score just went up. Check now for free...\"\n"
     ]
    },
    {
     "name": "stderr",
     "output_type": "stream",
     "text": [
      "1it [00:15, 15.51s/it]"
     ]
    },
    {
     "name": "stdout",
     "output_type": "stream",
     "text": [
      "\u001b[1m1/1\u001b[0m \u001b[32m━━━━━━━━━━━━━━━━━━━━\u001b[0m\u001b[37m\u001b[0m \u001b[1m0s\u001b[0m 50ms/step\n"
     ]
    },
    {
     "name": "stderr",
     "output_type": "stream",
     "text": [
      "\n"
     ]
    },
    {
     "name": "stdout",
     "output_type": "stream",
     "text": [
      "[DEBUG] Probability: 0.2716\n",
      "     → [W2V Model]    Prediction: HAM\n",
      "\n",
      "[22] Text: \"Claim your free reward before it expires!\"\n"
     ]
    },
    {
     "name": "stderr",
     "output_type": "stream",
     "text": [
      "1it [00:15, 15.26s/it]"
     ]
    },
    {
     "name": "stdout",
     "output_type": "stream",
     "text": [
      "\u001b[1m1/1\u001b[0m \u001b[32m━━━━━━━━━━━━━━━━━━━━\u001b[0m\u001b[37m\u001b[0m \u001b[1m0s\u001b[0m 40ms/step\n"
     ]
    },
    {
     "name": "stderr",
     "output_type": "stream",
     "text": [
      "\n"
     ]
    },
    {
     "name": "stdout",
     "output_type": "stream",
     "text": [
      "[DEBUG] Probability: 0.9263\n",
      "     → [W2V Model]    Prediction: SPAM\n",
      "\n",
      "[23] Text: \"This is not a scam! Click to receive your prize.\"\n"
     ]
    },
    {
     "name": "stderr",
     "output_type": "stream",
     "text": [
      "1it [00:15, 15.29s/it]"
     ]
    },
    {
     "name": "stdout",
     "output_type": "stream",
     "text": [
      "\u001b[1m1/1\u001b[0m \u001b[32m━━━━━━━━━━━━━━━━━━━━\u001b[0m\u001b[37m\u001b[0m \u001b[1m0s\u001b[0m 44ms/step\n"
     ]
    },
    {
     "name": "stderr",
     "output_type": "stream",
     "text": [
      "\n"
     ]
    },
    {
     "name": "stdout",
     "output_type": "stream",
     "text": [
      "[DEBUG] Probability: 0.8905\n",
      "     → [W2V Model]    Prediction: SPAM\n",
      "\n",
      "[24] Text: \"You have been chosen for a free trial. Confirm now...\"\n"
     ]
    },
    {
     "name": "stderr",
     "output_type": "stream",
     "text": [
      "1it [00:15, 15.34s/it]"
     ]
    },
    {
     "name": "stdout",
     "output_type": "stream",
     "text": [
      "\u001b[1m1/1\u001b[0m \u001b[32m━━━━━━━━━━━━━━━━━━━━\u001b[0m\u001b[37m\u001b[0m \u001b[1m0s\u001b[0m 43ms/step\n"
     ]
    },
    {
     "name": "stderr",
     "output_type": "stream",
     "text": [
      "\n"
     ]
    },
    {
     "name": "stdout",
     "output_type": "stream",
     "text": [
      "[DEBUG] Probability: 0.3506\n",
      "     → [W2V Model]    Prediction: HAM\n",
      "\n",
      "[25] Text: \"Unlock premium features today with zero cost!\"\n"
     ]
    },
    {
     "name": "stderr",
     "output_type": "stream",
     "text": [
      "1it [00:15, 15.99s/it]"
     ]
    },
    {
     "name": "stdout",
     "output_type": "stream",
     "text": [
      "\u001b[1m1/1\u001b[0m \u001b[32m━━━━━━━━━━━━━━━━━━━━\u001b[0m\u001b[37m\u001b[0m \u001b[1m0s\u001b[0m 54ms/step\n"
     ]
    },
    {
     "name": "stderr",
     "output_type": "stream",
     "text": [
      "\n"
     ]
    },
    {
     "name": "stdout",
     "output_type": "stream",
     "text": [
      "[DEBUG] Probability: 0.6045\n",
      "     → [W2V Model]    Prediction: SPAM\n",
      "\n",
      "[26] Text: \"Double your income from home starting today!\"\n"
     ]
    },
    {
     "name": "stderr",
     "output_type": "stream",
     "text": [
      "1it [00:17, 17.15s/it]"
     ]
    },
    {
     "name": "stdout",
     "output_type": "stream",
     "text": [
      "\u001b[1m1/1\u001b[0m \u001b[32m━━━━━━━━━━━━━━━━━━━━\u001b[0m\u001b[37m\u001b[0m \u001b[1m0s\u001b[0m 40ms/step\n"
     ]
    },
    {
     "name": "stderr",
     "output_type": "stream",
     "text": [
      "\n"
     ]
    },
    {
     "name": "stdout",
     "output_type": "stream",
     "text": [
      "[DEBUG] Probability: 0.8589\n",
      "     → [W2V Model]    Prediction: SPAM\n",
      "\n",
      "[27] Text: \"Risk-free investment opportunity. Join today!\"\n"
     ]
    },
    {
     "name": "stderr",
     "output_type": "stream",
     "text": [
      "1it [00:15, 15.11s/it]"
     ]
    },
    {
     "name": "stdout",
     "output_type": "stream",
     "text": [
      "\u001b[1m1/1\u001b[0m \u001b[32m━━━━━━━━━━━━━━━━━━━━\u001b[0m\u001b[37m\u001b[0m \u001b[1m0s\u001b[0m 43ms/step\n"
     ]
    },
    {
     "name": "stderr",
     "output_type": "stream",
     "text": [
      "\n"
     ]
    },
    {
     "name": "stdout",
     "output_type": "stream",
     "text": [
      "[DEBUG] Probability: 0.8604\n",
      "     → [W2V Model]    Prediction: SPAM\n",
      "\n",
      "[28] Text: \"Hot singles in your area want to meet you!\"\n"
     ]
    },
    {
     "name": "stderr",
     "output_type": "stream",
     "text": [
      "1it [00:15, 15.37s/it]"
     ]
    },
    {
     "name": "stdout",
     "output_type": "stream",
     "text": [
      "\u001b[1m1/1\u001b[0m \u001b[32m━━━━━━━━━━━━━━━━━━━━\u001b[0m\u001b[37m\u001b[0m \u001b[1m0s\u001b[0m 41ms/step\n"
     ]
    },
    {
     "name": "stderr",
     "output_type": "stream",
     "text": [
      "\n"
     ]
    },
    {
     "name": "stdout",
     "output_type": "stream",
     "text": [
      "[DEBUG] Probability: 0.3916\n",
      "     → [W2V Model]    Prediction: HAM\n",
      "\n",
      "[29] Text: \"Instant approval for your personal loan!\"\n"
     ]
    },
    {
     "name": "stderr",
     "output_type": "stream",
     "text": [
      "1it [00:15, 15.10s/it]"
     ]
    },
    {
     "name": "stdout",
     "output_type": "stream",
     "text": [
      "\u001b[1m1/1\u001b[0m \u001b[32m━━━━━━━━━━━━━━━━━━━━\u001b[0m\u001b[37m\u001b[0m \u001b[1m0s\u001b[0m 41ms/step\n"
     ]
    },
    {
     "name": "stderr",
     "output_type": "stream",
     "text": [
      "\n"
     ]
    },
    {
     "name": "stdout",
     "output_type": "stream",
     "text": [
      "[DEBUG] Probability: 0.8098\n",
      "     → [W2V Model]    Prediction: SPAM\n",
      "\n",
      "[30] Text: \"Get paid to take surveys from home.\"\n"
     ]
    },
    {
     "name": "stderr",
     "output_type": "stream",
     "text": [
      "1it [00:15, 15.17s/it]"
     ]
    },
    {
     "name": "stdout",
     "output_type": "stream",
     "text": [
      "\u001b[1m1/1\u001b[0m \u001b[32m━━━━━━━━━━━━━━━━━━━━\u001b[0m\u001b[37m\u001b[0m \u001b[1m0s\u001b[0m 51ms/step\n",
      "[DEBUG] Probability: 0.5738\n",
      "     → [W2V Model]    Prediction: SPAM\n",
      "\n"
     ]
    },
    {
     "name": "stderr",
     "output_type": "stream",
     "text": [
      "\n"
     ]
    }
   ],
   "source": [
    "texts = [\n",
    "    \n",
    "    # HAM\n",
    "    \"Hey, are we still meeting for lunch today?\",\n",
    "    \"Don't forget to bring your laptop to the meeting.\",\n",
    "    \"Can you send me the notes from class?\",\n",
    "    \"I’ll be home late tonight, save me some food.\",\n",
    "    \"Congrats on your new job!\",\n",
    "    \"Call me when you're free.\",\n",
    "    \"Let’s catch up this weekend!\",\n",
    "    \"The movie was amazing, you have to watch it!\",\n",
    "    \"Happy anniversary to you both!\",\n",
    "    \"Mom asked if you’re coming for dinner tonight.\",\n",
    "    # SPAM\n",
    "    \"Win a brand new iPhone! Click here to claim now!\",\n",
    "    \"Congratulations! You’ve been selected for a cash prize.\",\n",
    "    \"URGENT! Your account has been compromised. Verify now.\",\n",
    "    \"Lowest mortgage rates available now. Don’t miss out!\",\n",
    "    \"Act now and get 50% off all supplements!\",\n",
    "    \"Limited time offer! Get rich working from home!\",\n",
    "    \"You've won a lottery worth $1,000,000!\",\n",
    "    \"Exclusive deal just for you. Buy now!\",\n",
    "    \"FREE gift card with every purchase over $50.\",\n",
    "    \"Earn money fast with this simple trick!\",\n",
    "    \"Your credit score just went up. Check now for free.\",\n",
    "    \"Claim your free reward before it expires!\",\n",
    "    \"This is not a scam! Click to receive your prize.\",\n",
    "    \"You have been chosen for a free trial. Confirm now.\",\n",
    "    \"Unlock premium features today with zero cost!\",\n",
    "    \"Double your income from home starting today!\",\n",
    "    \"Risk-free investment opportunity. Join today!\",\n",
    "    \"Hot singles in your area want to meet you!\",\n",
    "    \"Instant approval for your personal loan!\",\n",
    "    \"Get paid to take surveys from home.\",\n",
    "]\n",
    "for idx, text in enumerate(texts):\n",
    "    print(f\"[{idx+1:02d}] Text: \\\"{text[:50]}{'...' if len(text)>50 else ''}\\\"\")\n",
    "\n",
    "    try:\n",
    "        result = predict_w2v(text)\n",
    "        print(f\"     → [W2V Model]    Prediction: {result.upper()}\\n\")\n",
    "    except Exception as e:\n",
    "        print(f\"     → [W2V Model]    ERROR: {e}\\n\")"
   ]
  },
  {
   "cell_type": "code",
   "execution_count": 56,
   "id": "e87afc68-ea3b-4fc5-bfa5-dd719f800fa1",
   "metadata": {},
   "outputs": [
    {
     "name": "stdout",
     "output_type": "stream",
     "text": [
      "Multinomial Naive Bayes Accuracy: 0.9191\n",
      "Multinomial Naive Bayes Classification Report:\n",
      "              precision    recall  f1-score   support\n",
      "\n",
      "           0       0.93      0.96      0.94      4302\n",
      "           1       0.89      0.83      0.86      1803\n",
      "\n",
      "    accuracy                           0.92      6105\n",
      "   macro avg       0.91      0.89      0.90      6105\n",
      "weighted avg       0.92      0.92      0.92      6105\n",
      "\n"
     ]
    }
   ],
   "source": [
    "# Add these imports at the beginning of your notebook\n",
    "from sklearn.naive_bayes import MultinomialNB\n",
    "from sklearn.metrics import classification_report, accuracy_score\n",
    "\n",
    "# --- After your TF-IDF vectorization and train-test split ---\n",
    "\n",
    "# Initialize and train the Multinomial Naive Bayes classifier\n",
    "mnb_classifier = MultinomialNB()\n",
    "mnb_classifier.fit(X_dense, y_train)\n",
    "\n",
    "# Make predictions on the test set\n",
    "y_pred_mnb = mnb_classifier.predict(X_test_enc)\n",
    "\n",
    "# Evaluate the performance\n",
    "accuracy_mnb = accuracy_score(y_test, y_pred_mnb)\n",
    "print(f\"Multinomial Naive Bayes Accuracy: {accuracy_mnb:.4f}\")\n",
    "\n",
    "print(\"Multinomial Naive Bayes Classification Report:\")\n",
    "print(classification_report(y_test, y_pred_mnb))"
   ]
  },
  {
   "cell_type": "code",
   "execution_count": 57,
   "id": "2622a1c1-597c-44e6-9770-9361eeadd407",
   "metadata": {},
   "outputs": [
    {
     "name": "stderr",
     "output_type": "stream",
     "text": [
      "60it [00:14,  4.07it/s]"
     ]
    },
    {
     "name": "stdout",
     "output_type": "stream",
     "text": [
      "Classification Report for Multinomial Naive Bayes (Small Sample):\n",
      "              precision    recall  f1-score   support\n",
      "\n",
      "         ham       0.88      0.97      0.92        30\n",
      "        spam       0.96      0.87      0.91        30\n",
      "\n",
      "    accuracy                           0.92        60\n",
      "   macro avg       0.92      0.92      0.92        60\n",
      "weighted avg       0.92      0.92      0.92        60\n",
      "\n"
     ]
    },
    {
     "name": "stderr",
     "output_type": "stream",
     "text": [
      "\n"
     ]
    }
   ],
   "source": [
    "import pandas as pd\n",
    "from sklearn.feature_extraction.text import TfidfVectorizer\n",
    "from sklearn.naive_bayes import MultinomialNB\n",
    "from sklearn.metrics import classification_report\n",
    "\n",
    "# Replace with your actual 30 ham and 30 spam samples\n",
    "ham_sample = [\n",
    "    \"Hey, are we still on for dinner tonight?\",\n",
    "    \"Don't forget to bring your notebook to class.\",\n",
    "    \"Happy Birthday! Hope you have a fantastic day 🎉\",\n",
    "    \"I'll call you once I'm done with the meeting.\",\n",
    "    \"Just parked, where are you?\",\n",
    "    \"Can you grab some bread and eggs on your way back?\",\n",
    "    \"Let’s catch up over coffee sometime next week!\",\n",
    "    \"The lecture notes are on the group drive.\",\n",
    "    \"Thanks again for your help yesterday!\",\n",
    "    \"I’ve sent the email to the professor.\",\n",
    "    \"Mom says hi and wants to know when you’re visiting.\",\n",
    "    \"I’ll be working from home tomorrow.\",\n",
    "    \"Do you want to go for a walk later?\",\n",
    "    \"Your parcel was delivered this morning.\",\n",
    "    \"I’m heading to the gym now, see you later.\",\n",
    "    \"Let me know if you need a ride.\",\n",
    "    \"Are you joining the Zoom call?\",\n",
    "    \"Just watched the movie you recommended. Loved it!\",\n",
    "    \"I'll be 10 minutes late, sorry!\",\n",
    "    \"That place we ate at last week was amazing.\",\n",
    "    \"Don't worry, I got the tickets!\",\n",
    "    \"Do you still have my charger?\",\n",
    "    \"Your appointment is scheduled for 4pm tomorrow.\",\n",
    "    \"Can we reschedule the meeting to Thursday?\",\n",
    "    \"Make sure to stay hydrated today, it's hot outside!\",\n",
    "    \"I’ve uploaded the project files.\",\n",
    "    \"We’ll meet outside the bookstore at 2pm.\",\n",
    "    \"Thanks for covering for me yesterday!\",\n",
    "    \"I’ll swing by around noon.\",\n",
    "    \"Just checking in — how are you feeling today?\"\n",
    "]\n",
    "\n",
    "spam_sample = [\n",
    "    \"Congratulations! You've won a $1000 Walmart gift card. Go to http://bit.ly/123 to claim now.\",\n",
    "    \"URGENT! Your account has been suspended. Click here to reactivate: http://fakebank.com/login\",\n",
    "    \"Win cash now!!! Text 'WIN' to 90099.\",\n",
    "    \"You have been selected for a free cruise to the Bahamas! Call now!\",\n",
    "    \"This is not a joke! You've won a brand new iPhone. Click here to claim!\",\n",
    "    \"Get Viagra now at half price. Discreet shipping available!\",\n",
    "    \"Your loan is approved! No credit check required. Apply today.\",\n",
    "    \"You’ve been chosen for a limited time offer. Claim your prize now!\",\n",
    "    \"Get rich working from home. Make $5000/week with no experience!\",\n",
    "    \"Final notice: Your car warranty is expiring. Renew today!\",\n",
    "    \"FREE entry into our £1000 cash prize draw. Text 'CASH' to 82345 now.\",\n",
    "    \"Act now! Limited spots remaining for our investment opportunity.\",\n",
    "    \"Earn $300 per day from your phone. No experience needed.\",\n",
    "    \"Exclusive deal: Buy one, get five free. Only for today!\",\n",
    "    \"This is your last chance to claim your reward.\",\n",
    "    \"You’ve been pre-approved for a platinum credit card.\",\n",
    "    \"Unlock access to thousands of singles in your area.\",\n",
    "    \"Limited-time deal: Weight loss pills 90% off!\",\n",
    "    \"Important: Your PayPal has been flagged. Verify immediately.\",\n",
    "    \"Guaranteed winner! Click to spin the wheel of fortune.\",\n",
    "    \"Alert: Suspicious activity on your bank account. Log in now.\",\n",
    "    \"You are selected for an elite business mentorship program.\",\n",
    "    \"Special offer! Unlimited data plan at half the price.\",\n",
    "    \"Your subscription is ending. Renew now to avoid interruption.\",\n",
    "    \"Meet your perfect match today. Sign up free!\",\n",
    "    \"Don't miss out on this once-in-a-lifetime opportunity!\",\n",
    "    \"Hot singles are waiting for you. Join now!\",\n",
    "    \"You're a lucky winner in our latest sweepstakes!\",\n",
    "    \"Earn cash back every time you spend. Join our rewards club!\",\n",
    "    \"Start your new career today! Get certified online fast.\"\n",
    "]\n",
    "\n",
    "\n",
    "X_test_cleaned = text_preprocess(ham_sample + spam_sample)\n",
    "\n",
    "# True labels (0 for ham, 1 for spam)\n",
    "y_true_sample = [0]*len(ham_sample) + [1]*len(spam_sample)\n",
    "\n",
    "# **Crucially, transform the *new* test data using the *fitted* vectorizer**\n",
    "X_test_sample_tfidf = pipeline.transform(X_test_cleaned)\n",
    "\n",
    "# Make predictions using the Multinomial Naive Bayes model\n",
    "y_pred_mnb_sample = mnb_classifier.predict(X_test_sample_tfidf)\n",
    "\n",
    "# Classification report for the Naive Bayes model on the sample data\n",
    "print(\"Classification Report for Multinomial Naive Bayes (Small Sample):\")\n",
    "print(classification_report(y_true_sample, y_pred_mnb_sample, target_names=[\"ham\", \"spam\"]))"
   ]
  },
  {
   "cell_type": "code",
   "execution_count": 58,
   "id": "e5a0df91-dab1-4628-97fd-ec3a23214e2d",
   "metadata": {},
   "outputs": [],
   "source": [
    "import pickle\n",
    "\n",
    "# Save the IDF dictionary to a file\n",
    "with open('idf_dict.pkl', 'wb') as f:\n",
    "    pickle.dump(idf_dict, f)"
   ]
  }
 ],
 "metadata": {
  "kernelspec": {
   "display_name": "Python 3",
   "language": "python",
   "name": "python3"
  },
  "language_info": {
   "codemirror_mode": {
    "name": "ipython",
    "version": 3
   },
   "file_extension": ".py",
   "mimetype": "text/x-python",
   "name": "python",
   "nbconvert_exporter": "python",
   "pygments_lexer": "ipython3",
   "version": "3.12.7"
  }
 },
 "nbformat": 4,
 "nbformat_minor": 5
}
